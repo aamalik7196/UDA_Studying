{
 "cells": [
  {
   "cell_type": "markdown",
   "metadata": {},
   "source": [
    "# Read Files"
   ]
  },
  {
   "cell_type": "markdown",
   "metadata": {},
   "source": [
    "## Multiple Files"
   ]
  },
  {
   "cell_type": "code",
   "execution_count": 1,
   "metadata": {},
   "outputs": [],
   "source": [
    "def read_many_files(file_path):\n",
    "    import glob \n",
    "    list_of_files = glob.glob(file_path) \n",
    "    list_of_text = list()\n",
    "    for file in list_of_files:\n",
    "        doc = open(file, encoding = 'utf8')\n",
    "        for line in doc: \n",
    "            for word in line.split(): \n",
    "                list_of_text.append(word)\n",
    "    return list_of_text"
   ]
  },
  {
   "cell_type": "code",
   "execution_count": 2,
   "metadata": {},
   "outputs": [
    {
     "data": {
      "text/plain": [
       "['\\ufeffThe', 'Project', 'Gutenberg', 'EBook', 'of']"
      ]
     },
     "execution_count": 2,
     "metadata": {},
     "output_type": "execute_result"
    }
   ],
   "source": [
    "file_path = './HW1/HW1_Dataset/*.txt'\n",
    "list_of_text = read_many_files(file_path)\n",
    "list_of_text[:5]"
   ]
  },
  {
   "cell_type": "markdown",
   "metadata": {},
   "source": [
    "# Single File"
   ]
  },
  {
   "cell_type": "code",
   "execution_count": 3,
   "metadata": {},
   "outputs": [],
   "source": [
    "def read_one_file(file_path): \n",
    "    list_of_text = list()\n",
    "    file = open(file_path, encoding ='utf8')\n",
    "    for line in file: \n",
    "        list_of_text.append(line.strip())\n",
    "    print(list_of_text[:8])\n",
    "    print(len(list_of_text))\n",
    "    return list_of_text"
   ]
  },
  {
   "cell_type": "code",
   "execution_count": 4,
   "metadata": {},
   "outputs": [
    {
     "name": "stdout",
     "output_type": "stream",
     "text": [
      "[\"Scholars' Guide to Washington, D. C. for East Asian Studies China, Japan, Korea, and Mongolia\", \"Gardner's Art through the Ages: A Global History, Volume II (Book Only)\", 'Criminology : The Core', 'Pharmacology for the Primary Care Provider', 'Calculus: Concepts and Contexts', 'Wars in the Woods The Rise of Ecological Forestry in America', 'Pharmacology for the Surgical Technologist', 'Essentials of Economics, 3rd Edition (The McGraw-Hill Series in Economics)']\n",
      "2373\n"
     ]
    }
   ],
   "source": [
    "file_path = './Practice_Quiz/all_book_titles.txt'\n",
    "list_of_titles = read_one_file(file_path)"
   ]
  },
  {
   "cell_type": "markdown",
   "metadata": {},
   "source": [
    "# Spacy"
   ]
  },
  {
   "cell_type": "code",
   "execution_count": 5,
   "metadata": {},
   "outputs": [],
   "source": [
    "import spacy\n",
    "nlp = spacy.load('en')  # load spaCy's built-in English models"
   ]
  },
  {
   "cell_type": "markdown",
   "metadata": {},
   "source": [
    "## Parse Text and Create Count"
   ]
  },
  {
   "cell_type": "markdown",
   "metadata": {},
   "source": [
    "### Some options when filtering text\n",
    "To only include alphabetic letters:\n",
    "\n",
    "- re.match ('[a-zA-Z]+$', token.lemma_)\n",
    "\n",
    "\n",
    "To exclude stop words: \n",
    "\n",
    "- token._.is_stop\n",
    "\n",
    "    OR \n",
    "\n",
    "- token.lemma in stopwords \n",
    "\n",
    "    where stopwords is a set of stop words \n",
    "\n",
    "To exclude punctuation \n",
    "\n",
    "- token.pos_ == 'PUNC' \n",
    "\n",
    "To exclude space\n",
    "\n",
    "- token.pos_ == 'SPACE'"
   ]
  },
  {
   "cell_type": "code",
   "execution_count": 6,
   "metadata": {},
   "outputs": [],
   "source": [
    "def parse_count(list_of_text):\n",
    "    from collections import Counter\n",
    "    import re \n",
    "    histogram = Counter() \n",
    "    for text in list_of_text: \n",
    "        parsed_text = nlp(text)\n",
    "        for token in parsed_text:\n",
    "            if re.match ('[a-zA-Z]+$', token.lemma_): #only alphabetic letters\n",
    "                token_lemma = token.lemma_.lower()\n",
    "                histogram[token_lemma] += 1\n",
    "    return histogram"
   ]
  },
  {
   "cell_type": "code",
   "execution_count": 7,
   "metadata": {},
   "outputs": [
    {
     "name": "stdout",
     "output_type": "stream",
     "text": [
      "0 :  ('scholar', 1)\n",
      "1 :  ('guide', 58)\n",
      "2 :  ('to', 326)\n",
      "3 :  ('washington', 5)\n",
      "4 :  ('for', 258)\n",
      "5 :  ('east', 27)\n",
      "6 :  ('asian', 25)\n",
      "7 :  ('studies', 17)\n",
      "8 :  ('china', 6)\n",
      "9 :  ('japan', 3)\n",
      "10 :  ('korea', 3)\n"
     ]
    }
   ],
   "source": [
    "histogram=parse_count(list_of_titles)\n",
    "for i, j in enumerate(histogram.items()): \n",
    "    if i>10 : \n",
    "        break \n",
    "    print(i, ': ', j)"
   ]
  },
  {
   "cell_type": "markdown",
   "metadata": {},
   "source": [
    "### Usually we also sort this bad boy"
   ]
  },
  {
   "cell_type": "code",
   "execution_count": 8,
   "metadata": {},
   "outputs": [],
   "source": [
    "def sort_counter(histogram, max_print): \n",
    "    from operator import itemgetter\n",
    "    sorted_token_count_pairs = sorted(histogram.items(), reverse = True, key = itemgetter(1))\n",
    "    i = 0 \n",
    "    for token, count in sorted_token_count_pairs:\n",
    "        i += 1\n",
    "        if i>max_print: \n",
    "            break\n",
    "        print(i, token, \":\", count)\n",
    "    return sorted_token_count_pairs"
   ]
  },
  {
   "cell_type": "code",
   "execution_count": 9,
   "metadata": {
    "scrolled": true
   },
   "outputs": [
    {
     "name": "stdout",
     "output_type": "stream",
     "text": [
      "1 and : 933\n",
      "2 of : 576\n",
      "3 the : 513\n",
      "4 edition : 474\n",
      "5 to : 326\n",
      "6 a : 307\n",
      "7 in : 307\n",
      "8 for : 258\n",
      "9 introduction : 242\n",
      "10 with : 211\n"
     ]
    }
   ],
   "source": [
    "sorted_token_count_pairs = sort_counter(histogram, max_print=10)"
   ]
  },
  {
   "cell_type": "code",
   "execution_count": 10,
   "metadata": {},
   "outputs": [],
   "source": [
    "def make_histogram(parsed_text): \n",
    "    from collections import Counter\n",
    "    histogram = Counter\n",
    "    for token in parsed_text: \n",
    "        original_token_text = token.orth_ \n",
    "        histogram[original_token_text] += 1"
   ]
  },
  {
   "cell_type": "markdown",
   "metadata": {},
   "source": [
    "# Counting Things"
   ]
  },
  {
   "cell_type": "markdown",
   "metadata": {},
   "source": [
    "## Imports"
   ]
  },
  {
   "cell_type": "code",
   "execution_count": 12,
   "metadata": {},
   "outputs": [
    {
     "name": "stdout",
     "output_type": "stream",
     "text": [
      "Thing : 2\n",
      "Here : 1\n",
      "are : 1\n",
      "some : 1\n",
      "words : 1\n",
      "to : 1\n",
      "demonstrate : 1\n",
      "this : 1\n",
      "thing : 1\n",
      ". : 1\n",
      "you : 1\n"
     ]
    }
   ],
   "source": [
    "from collections import Counter\n",
    "\n",
    "histogram = Counter()\n",
    "parsed_text = nlp('Here are some words to demonstrate this thing. Thing Thing you')\n",
    "for token in parsed_text:\n",
    "    original_token_text = token.orth_\n",
    "    histogram[original_token_text] += 1\n",
    "    # note: a shorter way to write the line above is: histogram[original_token_text] += 1\n",
    "\n",
    "# same sorting code as before\n",
    "from operator import itemgetter\n",
    "sorted_token_count_pairs = sorted(histogram.items(),\n",
    "                                  reverse=True,\n",
    "                                  key=itemgetter(1))\n",
    "for token, count in sorted_token_count_pairs:\n",
    "    print(token, \":\", count)"
   ]
  },
  {
   "cell_type": "markdown",
   "metadata": {},
   "source": [
    "# Plotting"
   ]
  },
  {
   "cell_type": "code",
   "execution_count": 14,
   "metadata": {},
   "outputs": [],
   "source": [
    "import matplotlib.pyplot as plt\n",
    "%matplotlib inline"
   ]
  },
  {
   "cell_type": "markdown",
   "metadata": {},
   "source": [
    "## Barplot"
   ]
  },
  {
   "cell_type": "code",
   "execution_count": 15,
   "metadata": {},
   "outputs": [],
   "source": [
    "def bar_plot(x_var, y_var):\n",
    "    plt.bar(x_var, y_var)\n",
    "    plt.xticks(rotation=45)\n",
    "    plt.show"
   ]
  },
  {
   "cell_type": "code",
   "execution_count": 16,
   "metadata": {
    "scrolled": true
   },
   "outputs": [
    {
     "data": {
      "image/png": "[encoded data removed]",
      "text/plain": [
       "<Figure size 432x288 with 1 Axes>"
      ]
     },
     "metadata": {
      "needs_background": "light"
     },
     "output_type": "display_data"
    }
   ],
   "source": [
    "x_var = ['so', 'yes']\n",
    "y_var = [2, 5]\n",
    "bar_plot(x_var,y_var)"
   ]
  },
  {
   "cell_type": "markdown",
   "metadata": {},
   "source": [
    "## Scatter Plot"
   ]
  },
  {
   "cell_type": "code",
   "execution_count": 17,
   "metadata": {},
   "outputs": [],
   "source": [
    "def scatter_plot(x_var, y_var, labels):\n",
    "    import numpy as np\n",
    "    labels = np.array(labels)\n",
    "    basic_plot = plt.scatter(x_var, y_var, c = labels, cmap = 'Spectral')\n",
    "    legend_map = lambda i: plt.plot([], color=basic_plot.cmap(basic_plot.norm(i)), mec=\"none\", \n",
    "                              label = format(i), ls=\"\", marker=\"o\")[0]\n",
    "    handles = [legend_map(i) for i in np.unique(labels)]\n",
    "    plt.legend(handles=handles, bbox_to_anchor = (1.04, 0.1), loc = \"lower left\", borderaxespad=0)\n",
    "    plt.show"
   ]
  },
  {
   "cell_type": "code",
   "execution_count": 18,
   "metadata": {},
   "outputs": [
    {
     "data": {
      "image/png": "[encoded data removed]",
      "text/plain": [
       "<Figure size 432x288 with 1 Axes>"
      ]
     },
     "metadata": {
      "needs_background": "light"
     },
     "output_type": "display_data"
    }
   ],
   "source": [
    "x=range(0,20)\n",
    "y=range(20,40)\n",
    "labels = range(0,20)\n",
    "scatter_plot(x, y, labels)"
   ]
  },
  {
   "cell_type": "markdown",
   "metadata": {},
   "source": [
    "# PCA\n",
    "\n",
    "Rotate and squish \n",
    "\n",
    "When rotating, we are dealing with orthogonal matrices, which means we would need to use the inner product if doing so manually. This process is repeated until we achieve desired dimension. \n",
    "\n",
    "\n",
    "__We are drawing material from demo in Lecture 3 and Recitation 2__"
   ]
  },
  {
   "cell_type": "code",
   "execution_count": 19,
   "metadata": {},
   "outputs": [],
   "source": [
    "# Loading some information \n",
    "import numpy as np\n",
    "\n",
    "# grams per person per week\n",
    "food_data = np.array([[105, 103, 103, 66],\n",
    "                      [245, 227, 242, 267],\n",
    "                      [685, 803, 750, 586],\n",
    "                      [147, 160, 122, 93],\n",
    "                      [193, 235, 184, 209], \n",
    "                      [156, 175, 147, 139],\n",
    "                      [720, 874, 566, 1033],\n",
    "                      [253, 265, 171, 143],\n",
    "                      [488, 570, 418, 355],\n",
    "                      [198, 203, 220, 187],\n",
    "                      [360, 365, 337, 334],\n",
    "                      [1102, 1137, 957, 674],\n",
    "                      [1472, 1582, 1462, 1494],\n",
    "                      [57, 73, 53, 47],\n",
    "                      [1374, 1256, 1572, 1506],\n",
    "                      [375, 475, 458, 135],\n",
    "                      [54, 64, 62, 41]])\n",
    "row_labels = ['Cheese',\n",
    "              'Carcass meat',\n",
    "              'Other meat',\n",
    "              'Fish',\n",
    "              'Fats and oils',\n",
    "              'Sugars',\n",
    "              'Fresh potatoes',\n",
    "              'Fresh Veg',\n",
    "              'Other Veg',\n",
    "              'Processed potatoes',\n",
    "              'Processed Veg',\n",
    "              'Fresh fruit',\n",
    "              'Cereals',\n",
    "              'Beverages',\n",
    "              'Soft drinks',\n",
    "              'Alcoholic drinks',\n",
    "              'Confectionary']\n",
    "column_labels = ['England', 'Wales', 'Scotland', 'N Ireland']"
   ]
  },
  {
   "cell_type": "markdown",
   "metadata": {},
   "source": [
    "## Using the sklearn PCA package"
   ]
  },
  {
   "cell_type": "code",
   "execution_count": 20,
   "metadata": {},
   "outputs": [],
   "source": [
    "from sklearn.decomposition import PCA\n",
    "def pca_fit_transform_dim_red(data_array,n_components): \n",
    "    reduced_pca = PCA(n_components = n_components) \n",
    "    reduced_pca_data = reduced_pca.fit_transform(data_array)\n",
    "    return reduced_pca_data, reduced_pca"
   ]
  },
  {
   "cell_type": "code",
   "execution_count": 21,
   "metadata": {},
   "outputs": [],
   "source": [
    "reduced_pca_food_data, reduced_pca = pca_fit_transform_dim_red(food_data.T,  1)"
   ]
  },
  {
   "cell_type": "code",
   "execution_count": 22,
   "metadata": {},
   "outputs": [
    {
     "data": {
      "image/png": "[encoded data removed]",
      "text/plain": [
       "<Figure size 432x288 with 1 Axes>"
      ]
     },
     "metadata": {
      "needs_background": "light"
     },
     "output_type": "display_data"
    }
   ],
   "source": [
    "y_axis_all_zeros = np.zeros(len(reduced_pca_food_data))\n",
    "\n",
    "plt.scatter(reduced_pca_food_data, y_axis_all_zeros)\n",
    "for idx in range(len(reduced_pca_food_data)):\n",
    "    plt.annotate(column_labels[idx], (reduced_pca_food_data[idx], y_axis_all_zeros[idx]), rotation=90)"
   ]
  },
  {
   "cell_type": "code",
   "execution_count": 23,
   "metadata": {},
   "outputs": [],
   "source": [
    "# if we were to do this in 2d... \n",
    "reduced_2D_food_data, reduced_2D_pca = pca_fit_transform_dim_red(food_data.T, 2)"
   ]
  },
  {
   "cell_type": "code",
   "execution_count": 24,
   "metadata": {
    "scrolled": true
   },
   "outputs": [
    {
     "data": {
      "image/png": "[encoded data removed]",
      "text/plain": [
       "<Figure size 432x288 with 1 Axes>"
      ]
     },
     "metadata": {
      "needs_background": "light"
     },
     "output_type": "display_data"
    }
   ],
   "source": [
    "plt.scatter(reduced_2D_food_data[:,0],reduced_2D_food_data[:,1] )\n",
    "for idx in range(len(reduced_2D_food_data)):\n",
    "    plt.annotate(column_labels[idx], (reduced_pca_food_data[idx], reduced_2D_food_data[:,1][idx]), rotation=90)"
   ]
  },
  {
   "cell_type": "markdown",
   "metadata": {},
   "source": [
    "## Code demonstrating how PCA works \n",
    "\n",
    "__This is from Recitation 2__"
   ]
  },
  {
   "cell_type": "code",
   "execution_count": 25,
   "metadata": {
    "scrolled": false
   },
   "outputs": [
    {
     "data": {
      "text/plain": [
       "array([[-0.05695538,  0.04792763, -0.25891666, -0.08441498, -0.00519362,\n",
       "        -0.03762098,  0.40140206, -0.15184994, -0.24359373, -0.02688623,\n",
       "        -0.03648827, -0.6326409 , -0.04770286, -0.02618776,  0.23224414,\n",
       "        -0.46396817, -0.0296502 ]])"
      ]
     },
     "execution_count": 25,
     "metadata": {},
     "output_type": "execute_result"
    }
   ],
   "source": [
    "# The PCA object for n_components = 1 would contain some information that we get when we call PCA.fit\n",
    "\n",
    "# The components represent the variation from the principal axes. \n",
    "# Basically, this is how far each point is away from the line that accounts for the most variability. \n",
    "# That green line in the slides. \n",
    "\n",
    "reduced_pca.components_"
   ]
  },
  {
   "cell_type": "code",
   "execution_count": 26,
   "metadata": {},
   "outputs": [
    {
     "name": "stdout",
     "output_type": "stream",
     "text": [
      "[ 10.75  -0.25 -21.    16.5  -12.25   1.75 -78.25  45.    30.25  -4.\n",
      "  11.   134.5  -30.5   -0.5  -53.    14.25  -1.25]\n"
     ]
    }
   ],
   "source": [
    "# 1. Squish to the mean\n",
    "\n",
    "reduced_pca_mean_diff= food_data[:,0]-reduced_pca.mean_\n",
    "print(reduced_pca_mean_diff)"
   ]
  },
  {
   "cell_type": "code",
   "execution_count": 27,
   "metadata": {
    "scrolled": true
   },
   "outputs": [
    {
     "data": {
      "text/plain": [
       "-144.9931521820767"
      ]
     },
     "execution_count": 27,
     "metadata": {},
     "output_type": "execute_result"
    }
   ],
   "source": [
    "#2. Find orthogonal/ rotate\n",
    "np.inner(reduced_pca.components_[0], reduced_pca_mean_diff)\n",
    "\n",
    "\n",
    "# Notice this value is the same value as the first transformed value "
   ]
  },
  {
   "cell_type": "code",
   "execution_count": 28,
   "metadata": {},
   "outputs": [
    {
     "name": "stdout",
     "output_type": "stream",
     "text": [
      "-144.9931521820767\n",
      "-240.52914763517668\n",
      "-91.86933899886353\n",
      "477.3916388161169\n"
     ]
    }
   ],
   "source": [
    "# Rinse and repeat \n",
    "for i in range(0, food_data.shape[1]):\n",
    "    print(np.inner(reduced_pca.components_[0], food_data[:,i]-reduced_pca.mean_))"
   ]
  },
  {
   "cell_type": "code",
   "execution_count": 29,
   "metadata": {},
   "outputs": [
    {
     "data": {
      "text/plain": [
       "array([[-144.99315218],\n",
       "       [-240.52914764],\n",
       "       [ -91.869339  ],\n",
       "       [ 477.39163882]])"
      ]
     },
     "execution_count": 29,
     "metadata": {},
     "output_type": "execute_result"
    }
   ],
   "source": [
    "reduced_pca_food_data"
   ]
  },
  {
   "cell_type": "markdown",
   "metadata": {},
   "source": [
    "# Manifold Learning \n",
    "Swiss rolling\n",
    "- good for nonlinear dimensionality reduction \n",
    "\n",
    "We're going to be using Isomap\n",
    "\n",
    "The concept: \n",
    "1. find nearest neighbor to build a road \n",
    "2. computer shortest distance but only allowed to be on road\n",
    "3. unroll\n",
    "\n",
    "__Code drawn from Lecture 4 demo__"
   ]
  },
  {
   "cell_type": "code",
   "execution_count": 30,
   "metadata": {},
   "outputs": [],
   "source": [
    "# Get the goods in there\n",
    "swiss_roll_2d = np.array([[479, -231], [515, -237],[551, -233],[581, -255],[597, -284],[610, -313],[619, -341],[623, -368],\n",
    "                          [617, -407],[591, -434],[573, -468],[542, -478],[507, -490],[471, -482],[437, -462],[398, -446],\n",
    "                          [383, -408],[403, -373],[430, -349],[470, -326],[507, -320],[531, -352],[527, -385],[487, -397]])"
   ]
  },
  {
   "cell_type": "code",
   "execution_count": 31,
   "metadata": {},
   "outputs": [
    {
     "data": {
      "image/png": "[encoded data removed]",
      "text/plain": [
       "<Figure size 432x288 with 1 Axes>"
      ]
     },
     "metadata": {
      "needs_background": "light"
     },
     "output_type": "display_data"
    }
   ],
   "source": [
    "from sklearn.manifold import Isomap\n",
    "\n",
    "# choose n_neighbors wisely \n",
    "isomap = Isomap(n_neighbors=2, n_components=1)\n",
    "swiss_roll_1d_isomap = isomap.fit_transform(swiss_roll_2d)\n",
    "\n",
    "# Just a plotting thing... \n",
    "def plot_1d(data_1d, y_offset=-0.001):\n",
    "    plt.scatter(data_1d, np.zeros(len(data_1d)),\n",
    "                c=list(range(len(data_1d))), cmap='Spectral')\n",
    "plot_1d(swiss_roll_1d_isomap)\n",
    "\n",
    "# Look. How unrolled"
   ]
  },
  {
   "cell_type": "markdown",
   "metadata": {},
   "source": [
    "It's very important to choose the neighbors right. Otherwise, you unroll funny because you build weird roads."
   ]
  },
  {
   "cell_type": "markdown",
   "metadata": {},
   "source": [
    "# tSNE (t-distributed stochastic neighbor embedding)\n",
    "Look, fancy tea leaves! \n",
    "\n",
    "Takeaway: \n",
    "- probabilistic determination for neighbors \n",
    "- improve low-dim representation to make low dimension probabilistic distribution to look like the original one \n",
    "\n",
    "I don't understand how this works exactly. \n",
    "\n",
    "Some knobs to turn: \n",
    "- perplexity value: low = emphasize local structure; high = emphasize global structure \n",
    "- generally, we initialize with PCA for tSNE"
   ]
  },
  {
   "cell_type": "code",
   "execution_count": 32,
   "metadata": {},
   "outputs": [
    {
     "name": "stdout",
     "output_type": "stream",
     "text": [
      "[t-SNE] Computing 7 nearest neighbors...\n",
      "[t-SNE] Indexed 24 samples in 0.000s...\n",
      "[t-SNE] Computed neighbors for 24 samples in 0.001s...\n",
      "[t-SNE] Computed conditional probabilities for sample 24 / 24\n",
      "[t-SNE] Mean sigma: 23.784069\n",
      "[t-SNE] KL divergence after 250 iterations with early exaggeration: 50.924458\n",
      "[t-SNE] KL divergence after 1000 iterations: 0.463246\n"
     ]
    },
    {
     "data": {
      "image/png": "[encoded data removed]",
      "text/plain": [
       "<Figure size 432x288 with 1 Axes>"
      ]
     },
     "metadata": {
      "needs_background": "light"
     },
     "output_type": "display_data"
    }
   ],
   "source": [
    "# Apply on Swissroll \n",
    "\n",
    "from sklearn.manifold import TSNE\n",
    "\n",
    "# *WARNING*: *despite* what the sklearn documentation says for t-SNE, the perplexity parameter\n",
    "# does matter! a helpful article to read: https://distill.pub/2016/misread-tsne/\n",
    "tsne = TSNE(n_components=1, perplexity=2, learning_rate=.01, init='random', verbose=1, random_state=0)\n",
    "swiss_roll_1d_tsne = tsne.fit_transform(swiss_roll_2d)\n",
    "plot_1d(swiss_roll_1d_tsne)"
   ]
  },
  {
   "cell_type": "markdown",
   "metadata": {},
   "source": [
    "## Dealing with Images\n",
    "Flatten, tSNE, read the tea leaves\n",
    "\n",
    "__Code from Lecture 5 demo__"
   ]
  },
  {
   "cell_type": "code",
   "execution_count": 33,
   "metadata": {},
   "outputs": [],
   "source": [
    "def image_dim_red(images_data, n_components, verbose , perplexity, n_iter): \n",
    "    flattened_images = images_data.reshape(len(images), -1) # flatten this array to deal with easily\n",
    "    feature_vectors = flattened_images.astype(np.float32) \n",
    "    from sklearn.manifold import TSNE\n",
    "    # call the object \n",
    "    tsne = TSNE(n_components=n_components, verbose=verbose, perplexity=perplexity, n_iter=n_iter) # n_components=2 in class \n",
    "    # apply fit_transform \n",
    "    feature_vectors_tsne2d = tsne.fit_transform(feature_vectors[images_data])\n",
    "    return feature_vectors_tsne2d\n",
    "\n",
    "#Note: we did not separate out a random sample from image_data for training in this case"
   ]
  },
  {
   "cell_type": "code",
   "execution_count": 34,
   "metadata": {},
   "outputs": [
    {
     "name": "stderr",
     "output_type": "stream",
     "text": [
      "Using TensorFlow backend.\n"
     ]
    },
    {
     "ename": "ModuleNotFoundError",
     "evalue": "No module named 'tensorflow'",
     "output_type": "error",
     "traceback": [
      "\u001b[1;31m---------------------------------------------------------------------------\u001b[0m",
      "\u001b[1;31mModuleNotFoundError\u001b[0m                       Traceback (most recent call last)",
      "\u001b[1;32m<ipython-input-34-4fe4bc056b29>\u001b[0m in \u001b[0;36m<module>\u001b[1;34m\u001b[0m\n\u001b[0;32m      1\u001b[0m \u001b[1;31m# Let's just get some data, like in the lecture\u001b[0m\u001b[1;33m\u001b[0m\u001b[1;33m\u001b[0m\u001b[1;33m\u001b[0m\u001b[0m\n\u001b[1;32m----> 2\u001b[1;33m \u001b[1;32mfrom\u001b[0m \u001b[0mkeras\u001b[0m\u001b[1;33m.\u001b[0m\u001b[0mdatasets\u001b[0m \u001b[1;32mimport\u001b[0m \u001b[0mmnist\u001b[0m\u001b[1;33m\u001b[0m\u001b[1;33m\u001b[0m\u001b[0m\n\u001b[0m\u001b[0;32m      3\u001b[0m \u001b[1;33m\u001b[0m\u001b[0m\n\u001b[0;32m      4\u001b[0m \u001b[0mimages\u001b[0m \u001b[1;33m=\u001b[0m \u001b[0mmnist\u001b[0m\u001b[1;33m.\u001b[0m\u001b[0mload_data\u001b[0m\u001b[1;33m(\u001b[0m\u001b[1;33m)\u001b[0m\u001b[1;33m[\u001b[0m\u001b[1;36m0\u001b[0m\u001b[1;33m]\u001b[0m\u001b[1;33m[\u001b[0m\u001b[1;36m0\u001b[0m\u001b[1;33m]\u001b[0m\u001b[1;33m\u001b[0m\u001b[1;33m\u001b[0m\u001b[0m\n\u001b[0;32m      5\u001b[0m \u001b[1;33m\u001b[0m\u001b[0m\n",
      "\u001b[1;32m~\\AppData\\Local\\conda\\conda\\envs\\py36\\lib\\site-packages\\keras\\__init__.py\u001b[0m in \u001b[0;36m<module>\u001b[1;34m\u001b[0m\n\u001b[0;32m      1\u001b[0m \u001b[1;32mfrom\u001b[0m \u001b[0m__future__\u001b[0m \u001b[1;32mimport\u001b[0m \u001b[0mabsolute_import\u001b[0m\u001b[1;33m\u001b[0m\u001b[1;33m\u001b[0m\u001b[0m\n\u001b[0;32m      2\u001b[0m \u001b[1;33m\u001b[0m\u001b[0m\n\u001b[1;32m----> 3\u001b[1;33m \u001b[1;32mfrom\u001b[0m \u001b[1;33m.\u001b[0m \u001b[1;32mimport\u001b[0m \u001b[0mutils\u001b[0m\u001b[1;33m\u001b[0m\u001b[1;33m\u001b[0m\u001b[0m\n\u001b[0m\u001b[0;32m      4\u001b[0m \u001b[1;32mfrom\u001b[0m \u001b[1;33m.\u001b[0m \u001b[1;32mimport\u001b[0m \u001b[0mactivations\u001b[0m\u001b[1;33m\u001b[0m\u001b[1;33m\u001b[0m\u001b[0m\n\u001b[0;32m      5\u001b[0m \u001b[1;32mfrom\u001b[0m \u001b[1;33m.\u001b[0m \u001b[1;32mimport\u001b[0m \u001b[0mapplications\u001b[0m\u001b[1;33m\u001b[0m\u001b[1;33m\u001b[0m\u001b[0m\n",
      "\u001b[1;32m~\\AppData\\Local\\conda\\conda\\envs\\py36\\lib\\site-packages\\keras\\utils\\__init__.py\u001b[0m in \u001b[0;36m<module>\u001b[1;34m\u001b[0m\n\u001b[0;32m      4\u001b[0m \u001b[1;32mfrom\u001b[0m \u001b[1;33m.\u001b[0m \u001b[1;32mimport\u001b[0m \u001b[0mdata_utils\u001b[0m\u001b[1;33m\u001b[0m\u001b[1;33m\u001b[0m\u001b[0m\n\u001b[0;32m      5\u001b[0m \u001b[1;32mfrom\u001b[0m \u001b[1;33m.\u001b[0m \u001b[1;32mimport\u001b[0m \u001b[0mio_utils\u001b[0m\u001b[1;33m\u001b[0m\u001b[1;33m\u001b[0m\u001b[0m\n\u001b[1;32m----> 6\u001b[1;33m \u001b[1;32mfrom\u001b[0m \u001b[1;33m.\u001b[0m \u001b[1;32mimport\u001b[0m \u001b[0mconv_utils\u001b[0m\u001b[1;33m\u001b[0m\u001b[1;33m\u001b[0m\u001b[0m\n\u001b[0m\u001b[0;32m      7\u001b[0m \u001b[1;33m\u001b[0m\u001b[0m\n\u001b[0;32m      8\u001b[0m \u001b[1;31m# Globally-importable utils.\u001b[0m\u001b[1;33m\u001b[0m\u001b[1;33m\u001b[0m\u001b[1;33m\u001b[0m\u001b[0m\n",
      "\u001b[1;32m~\\AppData\\Local\\conda\\conda\\envs\\py36\\lib\\site-packages\\keras\\utils\\conv_utils.py\u001b[0m in \u001b[0;36m<module>\u001b[1;34m\u001b[0m\n\u001b[0;32m      7\u001b[0m \u001b[1;32mfrom\u001b[0m \u001b[0msix\u001b[0m\u001b[1;33m.\u001b[0m\u001b[0mmoves\u001b[0m \u001b[1;32mimport\u001b[0m \u001b[0mrange\u001b[0m\u001b[1;33m\u001b[0m\u001b[1;33m\u001b[0m\u001b[0m\n\u001b[0;32m      8\u001b[0m \u001b[1;32mimport\u001b[0m \u001b[0mnumpy\u001b[0m \u001b[1;32mas\u001b[0m \u001b[0mnp\u001b[0m\u001b[1;33m\u001b[0m\u001b[1;33m\u001b[0m\u001b[0m\n\u001b[1;32m----> 9\u001b[1;33m \u001b[1;32mfrom\u001b[0m \u001b[1;33m.\u001b[0m\u001b[1;33m.\u001b[0m \u001b[1;32mimport\u001b[0m \u001b[0mbackend\u001b[0m \u001b[1;32mas\u001b[0m \u001b[0mK\u001b[0m\u001b[1;33m\u001b[0m\u001b[1;33m\u001b[0m\u001b[0m\n\u001b[0m\u001b[0;32m     10\u001b[0m \u001b[1;33m\u001b[0m\u001b[0m\n\u001b[0;32m     11\u001b[0m \u001b[1;33m\u001b[0m\u001b[0m\n",
      "\u001b[1;32m~\\AppData\\Local\\conda\\conda\\envs\\py36\\lib\\site-packages\\keras\\backend\\__init__.py\u001b[0m in \u001b[0;36m<module>\u001b[1;34m\u001b[0m\n\u001b[0;32m     87\u001b[0m \u001b[1;32melif\u001b[0m \u001b[0m_BACKEND\u001b[0m \u001b[1;33m==\u001b[0m \u001b[1;34m'tensorflow'\u001b[0m\u001b[1;33m:\u001b[0m\u001b[1;33m\u001b[0m\u001b[1;33m\u001b[0m\u001b[0m\n\u001b[0;32m     88\u001b[0m     \u001b[0msys\u001b[0m\u001b[1;33m.\u001b[0m\u001b[0mstderr\u001b[0m\u001b[1;33m.\u001b[0m\u001b[0mwrite\u001b[0m\u001b[1;33m(\u001b[0m\u001b[1;34m'Using TensorFlow backend.\\n'\u001b[0m\u001b[1;33m)\u001b[0m\u001b[1;33m\u001b[0m\u001b[1;33m\u001b[0m\u001b[0m\n\u001b[1;32m---> 89\u001b[1;33m     \u001b[1;32mfrom\u001b[0m \u001b[1;33m.\u001b[0m\u001b[0mtensorflow_backend\u001b[0m \u001b[1;32mimport\u001b[0m \u001b[1;33m*\u001b[0m\u001b[1;33m\u001b[0m\u001b[1;33m\u001b[0m\u001b[0m\n\u001b[0m\u001b[0;32m     90\u001b[0m \u001b[1;32melse\u001b[0m\u001b[1;33m:\u001b[0m\u001b[1;33m\u001b[0m\u001b[1;33m\u001b[0m\u001b[0m\n\u001b[0;32m     91\u001b[0m     \u001b[1;31m# Try and load external backend.\u001b[0m\u001b[1;33m\u001b[0m\u001b[1;33m\u001b[0m\u001b[1;33m\u001b[0m\u001b[0m\n",
      "\u001b[1;32m~\\AppData\\Local\\conda\\conda\\envs\\py36\\lib\\site-packages\\keras\\backend\\tensorflow_backend.py\u001b[0m in \u001b[0;36m<module>\u001b[1;34m\u001b[0m\n\u001b[0;32m      3\u001b[0m \u001b[1;32mfrom\u001b[0m \u001b[0m__future__\u001b[0m \u001b[1;32mimport\u001b[0m \u001b[0mprint_function\u001b[0m\u001b[1;33m\u001b[0m\u001b[1;33m\u001b[0m\u001b[0m\n\u001b[0;32m      4\u001b[0m \u001b[1;33m\u001b[0m\u001b[0m\n\u001b[1;32m----> 5\u001b[1;33m \u001b[1;32mimport\u001b[0m \u001b[0mtensorflow\u001b[0m \u001b[1;32mas\u001b[0m \u001b[0mtf\u001b[0m\u001b[1;33m\u001b[0m\u001b[1;33m\u001b[0m\u001b[0m\n\u001b[0m\u001b[0;32m      6\u001b[0m \u001b[1;32mfrom\u001b[0m \u001b[0mtensorflow\u001b[0m\u001b[1;33m.\u001b[0m\u001b[0mpython\u001b[0m\u001b[1;33m.\u001b[0m\u001b[0mframework\u001b[0m \u001b[1;32mimport\u001b[0m \u001b[0mops\u001b[0m \u001b[1;32mas\u001b[0m \u001b[0mtf_ops\u001b[0m\u001b[1;33m\u001b[0m\u001b[1;33m\u001b[0m\u001b[0m\n\u001b[0;32m      7\u001b[0m \u001b[1;32mfrom\u001b[0m \u001b[0mtensorflow\u001b[0m\u001b[1;33m.\u001b[0m\u001b[0mpython\u001b[0m\u001b[1;33m.\u001b[0m\u001b[0mtraining\u001b[0m \u001b[1;32mimport\u001b[0m \u001b[0mmoving_averages\u001b[0m\u001b[1;33m\u001b[0m\u001b[1;33m\u001b[0m\u001b[0m\n",
      "\u001b[1;31mModuleNotFoundError\u001b[0m: No module named 'tensorflow'"
     ]
    }
   ],
   "source": [
    "# Let's just get some data, like in the lecture\n",
    "from keras.datasets import mnist\n",
    "\n",
    "images = mnist.load_data()[0][0]\n",
    "\n",
    "# We're going to get some random sample from this data\n",
    "np.random.seed(0)\n",
    "random_sample = np.random.permutation(len(feature_vectors))[:100]  # 100 random indices\n",
    "\n",
    "feature_vecturs_tsne2d=image_dim_red(image_data = random_sample, verbose=1, perplexity=40, n_iter=5000)\n",
    "\n",
    "labels = mnist.load_data()[0][1]\n",
    "plt.scatter(feature_vectors_tsne2d[:, 0], feature_vectors_tsne2d[:, 1], c=[str(i) for i in labels[random_sample]], cmap='Spectral')"
   ]
  }
 ],
 "metadata": {
  "kernelspec": {
   "display_name": "Python 3",
   "language": "python",
   "name": "python3"
  },
  "language_info": {
   "codemirror_mode": {
    "name": "ipython",
    "version": 3
   },
   "file_extension": ".py",
   "mimetype": "text/x-python",
   "name": "python",
   "nbconvert_exporter": "python",
   "pygments_lexer": "ipython3",
   "version": "3.6.7"
  }
 },
 "nbformat": 4,
 "nbformat_minor": 2
}
